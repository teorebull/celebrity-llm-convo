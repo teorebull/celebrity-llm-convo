{
 "cells": [
  {
   "cell_type": "markdown",
   "id": "71fbe1a0",
   "metadata": {},
   "source": [
    "### LLMs with personalities"
   ]
  },
  {
   "cell_type": "code",
   "execution_count": 68,
   "id": "3bb5f1f3",
   "metadata": {},
   "outputs": [],
   "source": [
    "# imports\n",
    "import ollama\n",
    "from dotenv import load_dotenv\n",
    "import openai\n",
    "from google import genai\n",
    "import pandas as pd"
   ]
  },
  {
   "cell_type": "code",
   "execution_count": 81,
   "id": "67c9a6f0",
   "metadata": {},
   "outputs": [
    {
     "data": {
      "text/plain": [
       "True"
      ]
     },
     "execution_count": 81,
     "metadata": {},
     "output_type": "execute_result"
    }
   ],
   "source": [
    "load_dotenv(dotenv_path=\"../../.env\")"
   ]
  },
  {
   "cell_type": "markdown",
   "id": "7a3693c1",
   "metadata": {},
   "source": [
    "### Celebrities: Elon Musk vs Gordon Ramsay"
   ]
  },
  {
   "cell_type": "code",
   "execution_count": 69,
   "id": "89b2c841",
   "metadata": {},
   "outputs": [
    {
     "data": {
      "text/plain": [
       "['Motto:Organizing everything (Source)\\nDescription:(Source)\\nISTJs thrive on organization. They keep their lives and environments well-regulated. They bring painstaking attention to detail in their work and will not rest until a job is well completed.\\nThey are often dissatisfied with unresolved issues, whether in life or in fiction.\\n\\nISTJs are faithful, logical, organized, sensible, and earnest traditionalists. They earn success by thoroughness and dependability.\\nShutting out distractions, they take a practical, logical approach to their endeavors. Realistic and responsible, they work steadily toward their goals.\\nThey enjoy creating order in both their professional and personal lives.\\nDespite their focus on their internal world, ISTJs prefer dealing with the present and the factual. Keen observers of life, they weigh various options when making decisions.\\nISTJs are well-prepared for most eventualities and have a good understanding of most situations. They believe in practical objectives, and they value traditions and loyalty.\\nISTJs learn best and apply themselves to subjects that they deem practical and useful. As learners, ISTJs tend to need materials, directions, and teachers to be precise and accurate if they are to trust the information that is presented.\\nThey prefer concrete and useful applications and will tolerate theory only if it leads to these ends.\\nThey like learning activities that allow them time to reflect and think. Material that seems too easy or too enjoyable leads ISTJs to be skeptical of its merit.\\nBecause of their practical outlook, ISTJs clearly delineate between work and play. Therefore, their ideal learning environment is task-oriented, has a clear schedule, and has a clear and precise assignment.\\nISTJs respect facts. They hold a tremendous store of data within themselves, gathered through their Sensing function.\\nThey may have difficulty valuing a theory or idea that differs from their own perspective. However, if they are shown the importance or relevance of the idea by someone whom they respect or care about, the idea becomes a fact that the ISTJ will internalize and vigorously support.\\nISTJs often work for long periods, devoting their energy to tasks that they see as important to fulfilling a goal. However, they resist putting energy into things that don’t make sense to them, or for which they can’t see a practical application.\\nThey prefer to work alone but can work well in teams when the situation demands it. They like to be accountable for their actions, and they enjoy positions of responsibility.\\nThey have little use for theory or abstract thinking, unless the practical application is clear.\\nIn general, ISTJs are capable, logical, reasonable, and effective individuals with a deeply driven desire to promote security and peaceful living. They can be highly effective at achieving their goals—whatever those may be.\\n',\n",
       " 'Motto:Meeting obligations (Source)\\nDescription:(Source)ISFJs are interested in maintaining order and harmony in every aspect of their lives. They are steadfast and meticulous in handling their responsibilities.\\nAlthough quiet, they are people-oriented and very observant. Not only do they remember details about others, but they observe and respect others’ feelings. Friends and family are likely to describe them as thoughtful and trustworthy.\\n\\nISFJs are warm-hearted and compassionate individuals who are always thinking of others before themselves.\\nThey enjoy working in fields with long traditions where theycan apply their kind nature and analytic skills. They excel in social work, medicine, and academics for example.\\nEmotionally oriented, ISFJs are sensitive to other people’s feelings and have a deep understanding of their own.\\nAt the same time, they are grounded by logic and reasoning and can always look at situations for what they are in a practical manner. This makes them detail oriented, they are always able to get the job done with precision and accuracy.\\nEven though ISFJs might have a tendency to procrastinate, they thrive on the pressure of the last minute and will always deliver on time.\\nAlthough quiet and private, ISFJs also have an uncanny ability to relate to other people on a personal level when it’s needed. They can offer great insight into the human condition, but don’t expect it to happen often.\\nISFJs are well-known for keeping their thoughts and feelings to themselves most of the time.\\nISFJs like things to be orderly, and they also have a uniquely creative side.\\nThey tend to have aesthetically pleasing living spaces because they put a lot of thought into the design and flow of their house.\\nThey have a knack for making friends and family feel safe and welcomed in their presence. But because they are always thinking of others’ needs, ISFJs become vulnerable to being taken advantage of.\\nWithout proper praise for their accomplishments, ISFJs can easily become distracted by negative and self sabotaging thoughts.\\nAlthough they think highly of others, they tend to be far too critical of themselves, always expecting perfection. This perfectionism works both for and against ISFJs.\\nOverall, ISFJs are thoughtful and generous individuals who are dedicated to making a change in the world with their kindness and commitment.\\nThey are emotionally intelligent, while also always taking a practical approach to life. Balanced and well-rounded, ISFJs are likely to succeed at anything they set their mind to.\\n',\n",
       " 'Motto:One cause after another (Source)\\nDescription:(Source)INFJs are conscientious and value-driven. They seek meaning in relationships, ideas, and events, with an eye toward better understanding themselves and others.\\nUsing their intuitive skills, they develop a clear and confident vision, which they then set out to execute, aiming to better the lives of others.\\nLike theirINTJ counterparts, INFJs regard problems as opportunities to design and implement creative solutions.\\n\\nOne of the rarest personality types, INFJs are quiet, private individuals who prefer to exercise their influence behind the scenes.\\nAlthough very independent, INFJs are intensely interested in the well-being of others. INFJs prefer one-on-one relationships to large groups.\\nSensitive and complex, they are adept at understanding complicated issues and driven to resolve differences in a cooperative and creative manner.\\nINFJs have a rich, vivid inner life, which they may be reluctant to share with those around them. Nevertheless, they are congenial in their interactions, and perceptive of the emotions of others.\\nGenerally well-liked by their peers, they may often be considered close friends and confidants by most other types. However, they are guarded in expressing their own feelings, especially to new people, and so tend to establish close relationships slowly.\\nINFJs tend to be easily hurt, though they may not reveal this except to their closest companions.\\nINFJs may “silently withdraw as a way of setting limits”, rather than expressing their wounded feelings—a behavior that may leave others confused and upset.\\nINFJs tend to be sensitive, quiet leaders with a great depth of personality. They are intricately and deeply woven, mysterious, and highly complex, sometimes puzzling even to themselves.\\nThey have an orderly view toward the world, but are internally arranged in a complex way that only they can understand.\\nAbstract in communicating, they live in a world of hidden meanings and possibilities.\\nWith a natural affinity for art, INFJs tend to be creative and easily inspired. Yet they may also do well in the sciences, aided by their intuition.\\n',\n",
       " 'Motto:Can improve on anything (Source)\\nDescription:(Source)INTJs are analytical.Like INTPs, they are most comfortable working alone and tend to be less sociable than other types.\\nNevertheless, INTJs are prepared to lead if no one else seems up to the task, or if they see a major weakness in the current leadership. They tend to be pragmatic, logical, and creative.\\nThey have a low tolerance for spin or rampant emotionalism. They are not generally susceptible to catchphrases and do not recognize authority based on tradition, rank, or title.\\nStrengths:Hallmarks of the INTJ include independence of thought and a desire for efficiency. They work best when given autonomy and creative freedom.\\n\\nThey harbor an innate desire to express themselves by conceptualizing their own intellectual designs. They have a talent for analyzing and formulating complex theories.\\nINTJs are generally well-suited for occupations within academia, research, consulting, management, science, engineering, and law.\\nThey are often acutely aware of their own knowledge and abilities–as well as their limitations and what they don’t know (a quality that tends to distinguish them from INTP’s). INTJs thus develop a strong confidence in their ability and talents, making them natural leaders.\\nFriendships:Checkthe INTJ Friendship Experience.\\nRelationships:(Checkthe INTJ Romantic Relationshipsfor more in-depth analysis.)\\nIn forming relationships, INTJs tend to seek out others with similar character traits and ideologies. Agreement on theoretical concepts is an important aspect of their relationships.\\nBy nature INTJs can be demanding in their expectations, and approach relationships in a rational manner. As a result, INTJs may not always respond to a spontaneous infatuation but wait for a mate who better fits their set criteria.\\nThey tend to be stable, reliable, and dedicated. Harmony in relationships and home life tends to be extremely important to them.\\nThey generally withhold strong emotion and do not like to waste time with what they consider irrational social rituals. This may cause non-INTJs to perceive them as distant and reserved; nevertheless, INTJs are usually very loyal partners who are prepared to commit substantial energy and time into a relationship to make it work.\\nAs mates, INTJs want harmony and order in the home and in relationships.\\nThe most independent of all types, INTJs trust their intuition when choosing friends and mates–even in spite of contradictory evidence or pressure from others.\\nThe emotions of an INTJ are hard to read, and neither male nor female INTJs are apt to express emotional reactions.\\nAt times, INTJs seem cold, reserved, and unresponsive, while in fact they are almost hypersensitive to signals of rejection from those they care for.\\nFamily Life:Checkthe INTJ Family LifeandINTJ as a parent.\\nEducation:Checkthe INTJ Education Experience.\\nSocial Weaknesses:In social situations, INTJs may also be unresponsive and may neglect small rituals designed to put others at ease. For example, INTJs may communicate that idle dialogue such as small talk is a waste of time. This may create the impression that the INTJ is in a hurry–an impression that is not always intended.\\nIn their interpersonal relationships, INTJs are usually better in a working situation than in a recreational situation.\\n',\n",
       " 'Motto:Working with facts and hands (Source)\\nDescription:(Source)ISTPs excel at analyzing situations to reach the heart of a problem so that they can swiftly implement a functional repair, making them ideally suited to the field of engineering.\\nNaturally quiet people, they are interested in understanding how systems operate, focusing on efficient operation and structure. They are open to new information and approaches.\\n\\nBut contrary to their seemingly detached natures, ISTPs are often capable of humorously insightful observations about the world around them.\\nThey can also be closet daredevils who gravitate toward fast-moving or risky hobbies (such as bungee jumping, hang gliding, racing, motorcycling, and parachuting), recreational sports (such as downhill skiing, paintball, ice hockey, and scuba diving), and careers (such as aviation and firefighting).\\nISTPs may sometimes seem to act without regard for procedures, directions, protocol, or even their own safety.\\nBut while their approach may seem haphazard, it is in fact based on a broad store of knowledge developed over time through action and keen observation.\\nISTPs enjoy self-sufficiency and take pride in developing their own solutions to problems.\\nISTPs are content to let others live according to their own rules, as long as the favor is reciprocated.\\nISTPs endure reasonable impositions without complaint–but if their “territory” is encroached upon, eroded, or violated, they defend what they view as rightfully theirs.\\n',\n",
       " 'Motto:Marching to a different drummer (Source)\\nDescription:(Source)ISFPs are peaceful, easygoing people who adopt a “live and let live” approach to life. They enjoy taking things at their own pace and tend to live in the moment.\\nAlthough quiet, they are pleasant, considerate, caring, and devoted to the people in their lives.\\nThough not inclined to debate or necessarily even air their views, their values are important to them.\\n\\nIntroverted and quiet, ISFPs are difficult to build a close relationship with. They usually have a small circle of friends and family who they have had relationships with over long periods of time.\\nEven though it takes ISFPs a long time to open up to others, once they do they have a lot to say. ISF’s are deep thinkers who walk to the beat of their own drum.\\nISFPs tend to examine the world with all five of their senses. They thrive on experiencing every aspect of the present moment by taking in the sight, feel, touch, smell, and sounds of life as much as they possibly can.\\nThis makes them incredibly talented artists who are able to breath life into their art. They excel in positions where they can follow their own personal value system while also expressing themselves creatively.\\nMotivated by their sympathetic nature, ISFPs are always ready to help anyone in need. They have an intuitive understanding of what other people are thinking and feeling which makes them skilled in helping others.\\nHowever, ISFPs have a tendency to become overly critical of themselves due to their strong sense of values and are not quick to take credit for their work.\\nRelentlessly humble, ISFPs prefer to have their work and service speak for themselves.\\nISFPs also enjoy spending a lot of time in the quiet calm of nature where they can clear their heads and figure things out for themselves.\\nThey value their alone time more than most people. In fact, they rely on solitude to unwind and gain perspective.\\nThey may appear to have a care free attitude, but those who know the ISFP would say they are serious and focused.\\nAnd because they take life so seriously, ISFPs often feel overwhelmed by the world. But they overcome these obstacles with their altruistic nature and artistic abilities.\\n',\n",
       " 'Motto:Pursuing ideals (Source)\\nDescription:(Source)The polite, reserved exterior of INFPs can at first make them difficult to get to know. They enjoy conversation, however, taking particular delight in the unusual.\\nWhen INFPs are in a sociable mood, their humor and charm shine through. Disposed to like people and to avoid conflict, INFPs tend to make pleasant company.\\n\\nDevoted to those in their inner circle, INFPs guard the emotional well-being of others, consoling those in distress.\\nGuided by their desire for harmony, INFPs prefer to be flexible unless their ethics are violated. Then, they become passionate advocates for their beliefs.\\nThey are often able to sway the opinions of others through tact, diplomacy, and an ability to see varying sides of an issue.\\nINFPs develop these insights through reflection, and they require substantial time alone to ponder and process new information.\\nWhile they can be quite patient with complex material, they are generally bored by routine. Though not always organized, INFPs are meticulous about things they value.\\nPerfectionists, they may have trouble completing a task because it cannot meet their high standards. They may even go back to a completed project after the deadline so they can improve it.\\nINFPs are creative types and often have a gift for language. As introverts, they may prefer to express themselves through writing.\\nTheir dominant Feeling drives their desire to communicate, while their auxiliary intuition supplies the imagination.\\nHaving a talent for symbolism, they enjoy metaphors and similes. They continually seek new ideas and adapt well to change.\\nThey prefer working in an environment that values these gifts and allows them to make a positive difference in the world, according to their personal beliefs.\\n',\n",
       " 'Motto:Always analytical (Source)\\nDescription:(Source)INTPs are quiet, thoughtful, analytical individuals who tend to spend long periods of time on their own, working through problems and forming solutions.\\nThey are curious about systems and how things work. Consequently, they are frequently found in careers such as science, philosophy, law, and architecture.\\n\\nINTPs tend to be less at ease in social situations or in the “caring professions”, although they enjoy the company of those who share their interests. They prize autonomy in themselves and others.\\nThey generally balk at attempts by others to convince them to change. They also tend to be impatient with the bureaucracy, rigid hierarchies, and the politics prevalent in many professions.\\nINTPs have little regard for titles and badges, which they often consider to be unjustified. INTP’s usually come to distrust authority as hindering the uptake of novel ideas and the search for knowledge.\\nINTPs accept ideas based on merit, rather than tradition or authority.\\nThey have little patience for social customs that seem illogical or that serve as obstacles for pursuing ideas and knowledge. This may place them at odds with people who have an SJ preference, since SJs tend to defer to authority, tradition, and what the rest of the group is doing.\\nINTPs prefer to work informally with others as equals.\\nINTPs organize their understanding of any topic by articulating principles, and they are especially drawn to theoretical constructs. Having articulated these principles for themselves, they can demonstrate remarkable skill in explaining complex ideas to others in simple terms, especially in writing.\\nOn the other hand, their ability to grasp complexity may also lead them to provide overly detailed explanations of simple ideas, and listeners may judge that the INTP makes things more difficult than they need to be.\\nTo the INTPs’ mind, they are presenting all the relevant information or trying to crystallize the concept as clearly as possible.\\nGiven their independent nature, INTPs may prefer working alone to leading or following in a group.\\nDuring interactions with others, if INTPs are focused on gathering information, they may seem oblivious, aloof, or even rebellious–when in fact they are concentrating on listening and understanding.\\nHowever, INTPs’ extraverted intuition often gives them a quick wit, especially with language. They may defuse tension through comical observations and references.\\nThey can be charming, even in their quiet reserve, and are sometimes surprised by the high esteem in which their friends and colleagues hold them.\\nINTP’s are driven to fully understand a discussion from all relevant angles. Their impatience with seemingly indefensible ideas can make them particularly devastating at debate.\\nWhen INTPs feel insulted, they may respond with sudden, cutting criticism. After such an incident, INTPs are likely to be as bewildered as the recipient. They have broken the rules of debate and exposed their raw emotions.\\nTo INTPs, this is the crux of the problem: improperly handled emotions, INTPs believe, can only harm.\\nWhile INTP’s experience emotions as an important part of their internal lives, and sometimes share their emotions with others, INTP’s nevertheless believe that emotions must not play a role in logical discussions, or be expressed in a way that would put themselves at disadvantage.\\n',\n",
       " 'Motto:Focus on the here and now (Source)\\nDescription:(Source)ESTPs are hands-on learners who live in the moment, seeking the best in life, wanting to share it with their friends.\\nThe ESTP is open to situations, able to improvise to bring about desired results. They are active people who want to solve their problems rather than simply discuss them.\\n\\nESTPs are high energy extroverts who maximize each moment to get the best out of life. They are gregarious and sociable which often makes them the center of attention whether they are at work or a social event.\\nAn ESTP will be open to new situations, and they are often the first to volunteer to demonstrate or learn a new skill whenever the opportunity arises.\\nESTPs prefer to actively participate in solving a problem rather than sitting around discussing a solution.\\nThey tend to jump into projects and thrive on the mental stimulation that comes from making critical decisions in the moment.\\nDue to their desire to follow their own moral compass, ESTPs will sometimes encounter challenges when dealing with authority figures.\\nAn ESTP may find it difficult to work in highly organized environments that require a great deal of focused discussions.\\nFormal education and regimented work schedules interfere with their desire to learn through hands-on experiences. However, ESTPs who manage to harness their energy long enough to complete their formal learning can go on to experience high achievements.\\nAn ESTP will be a natural group leader who can quickly identify the strengths and weaknesses of each member of their team.\\nESTPs have a unique knack for picking up on slight details such as a change in a person’s facial expressions and body language.\\nAs soon as an ESTP senses an unspoken thought or shift in mood from another individual, they are quick to bring it into the open and ask questions to get to the heart of the matter. While this ability to perceive the motives of others can be beneficial, it can also be off-putting to those who prefer not to have their secrets revealed so easily.\\nThe passionate and energetic nature of ESTPs make them ideal entrepreneurs provided they can enjoy active participation in running their business.\\nHands-on careers, such as construction, emergency services and the military are also ideal careers for an ESTP. They also thrive in the public eye and may enjoy working as a salesperson, comedian or actor.\\nEddie Murphy, Madonna and Bruce Willis are among the more well-known ESTPs.\\nAs long as an ESTP can harness their high energy and point it in a positive direction, they can conquer any challenge they encounter while promoting success for everyone with whom they come in contact.\\n',\n",
       " 'Motto:If there’s no excitement, we’ll create it (Source)\\nDescription:(Source)ESFP’s live in the moment, experiencing life to the fullest. They enjoy people, as well as material comforts.\\nRarely allowing conventions to interfere with their lives, they find creative ways to meet human needs.\\nESFP’s are excellent team players, focused on completing the task at hand with maximum fun and minimum discord.\\nActive types, they find pleasure in new experiences.\\n\\nESFP’s take a hands-on approach in most things. Because they learn more by doing than by studying or reading, they tend to rush into things, learning by interacting with their environment.\\nThey usually dislike theory and written explanations.\\nTraditional schools can be difficult for ESFP’s, although they tend to do well when the subject of study interests them, or when they see the relevance of a subject and are allowed to interact with people.\\nObservant, practical, realistic, and specific, ESFP’s make decisions according to their own personal standards.\\nThey use their Feeling judgment internally to identify and empathize with others. Naturally attentive to the world around them,\\nESFP’s are keen observers of human behavior. They quickly sense what is happening with other people and immediately respond to their individual needs.\\nThey are especially good at mobilizing people to deal with crises. Generous, optimistic, and persuasive, they are good at interpersonal interactions.\\nThey often play the role of peacemaker due to their warm, sympathetic, and tactful nature.\\nESFP’s love being around people and having new experiences. Living in the here-and-now, they often do not think about long term effects or the consequences of their actions.\\nWhile very practical, they generally despise routines, instead desiring to “go with the flow.”\\nThey are, in fact, very play minded. Because ESFP’s learn better through hands-on experience, classroom learning may be troublesome for many of them, especially those with a very underdeveloped intuitive side.\\n',\n",
       " 'Motto:In search of myself (Source)\\nDescription:(Source)ENFPs are initiators of change, keenly perceptive of possibilities. They energize and stimulate others through their contagious enthusiasm.\\nThey prefer the start-up phase of a project or relationship, and are tireless in the pursuit of new-found interests. ENFPs are able to anticipate the needs of others and to offer them needed help and appreciation.\\nThey bring zest, joy, liveliness, and fun to all aspects of their lives.\\n\\nThey are at their best in fluid situations that allow them to express their creativity and use their charisma. They tend to idealize people, and can be disappointed when reality fails to fulfill their expectations.\\nThey are easily frustrated if a project requires a great deal of follow-up or attention to detail.\\nBecause of their enthusiasm for life, ENFPs have a wide variety of skills. They often find themselves going through several different careers throughout their life. Despite the fact that they rarely stay in one area of employment, they are surprisingly consistent.\\nENFPs live their life following a strong set of values and everything they do resides from those values, including their career.\\nTheir consistency comes from their own personal set of values that will never be betrayed.\\nENFPs are constantly aware of everything around them, searching the world for inner peace and their “true self.” Often, this results in fear of losing themselves. ENFPs strive off of emotion, which can cause them to be highly intense and emotional. All of these facts are why values are so important in the life of a ENFP.\\nSince ENFPs are so enthusiastic, they have to take the time to be alone and focus in order to finish a project.\\nTheir work is important to them, but without time to get centered, they often lose track and drop commitments. However, ENFPs that keep their focus and remain centered in their values tend to be highly successful in their personal as well as professional endeavors.\\nENFPs have to remind themselves to keep with their current projects rather than getting excited about the next big thing. Since an ENFP is driven by their emotions, they have to be reminded to let their brain have a part in their decisions and not just their heart.\\nENFPs contain excellent people skills. They are genuinely interested in people and what makes them tick. Inter-personal relationships are very important in the life of an ENFP.\\nThey have an intense desire to be liked by other people. Sometimes this can result in trying too hard to be accepted.\\nHowever, once an ENFP has found a way to be true to who they are while also spending time with other people, they truly bring out the best in everyone around them.\\nWhen they take the time, ENFPs contain the ability to understand someone after only a short period of time and can use their natural intuition as well as their flexibility to relate to their peers.\\n',\n",
       " 'Motto:One Idea After Another (Source)\\nDescription:(Source)ENTP’s are quick to see complex interrelationships between people, things, and ideas and are able to analyze these interrelationships in profound detail. The result is an in-depth understanding of the way things and relationships work, and how they can be improved.\\nTo the ENTP, competence and intelligence are particularly prized, both in themselves and in other people.\\n\\nENTP’s are frequently described as clever, cerebrally and verbally quick, enthusiastic, outgoing, innovative, flexible, loyal and resourceful.\\nENTP’s are motivated by a desire to understand and improve the world they live in. They are usually accurate in sizing up a situation.\\nThey may have a perverse sense of humor and sometimes play devil’s advocate, which can create misunderstandings with friends, coworkers, and family.\\nENTP’s are ingenious and adept at directing relationships between means and ends.\\nENTP’s devise fresh, unexpected solutions to difficult problems. However, they are less interested in generating and following through with detailed plans than in generating ideas and possibilities.\\nIn a team environment, ENTP’s are most effective in a role where they can draw on their abilities to offer deep understanding, a high degree of flexibility, and innovative solutions to problems.\\nThe ENTP regards a comment like “it can’t be done” as a personal challenge, and, if properly motivated, will spare no effort to discover a solution.\\n',\n",
       " 'Motto:Taking care of business (Source)\\nDescription:(Source)ESTJ’s are practical, realistic, and matter-of-fact, with a natural head for business or mechanics. Though they are not interested in subjects they see no use for, they can apply themselves when necessary.\\nThey like to organize and run activities. ESTJ’s make good administrators, especially if they remember to consider others’ feelings and points of view, which they often miss.\\n\\nESTJ’s take a practical approach to life that is guided by their matter-of-fact attitudes and focus on realism. They recognize tradition and prefer order which makes them strong leaders within their families and communities.\\nAn ESTJ prefers to lead by example and believes that authority is earned through hard work, dedication and honesty.\\nThey abhor laziness and cheating, and instead stick to their principles with unclouded judgment by sticking to the facts of a matter.\\nESTJ’s excel in administer roles that enable them to sort through the details of challenging projects to identify a way to break them down into manageable tasks. With these traits, it is no wonder that many of the U.S. presidents have been ESTJ’s.\\nAlthough ESTJ’s will be the first to take the lead, they recognize their need for assistance from others. Yet, they tend to hold their colleagues up to the same expectations they set for themselves.\\nIn business matters, ESTJ’s can be unyielding and unable to see other’s perspectives when they do not match up to the facts.\\nIf there is a weakness to be found in this personality type, it would be inflexibility as an ESTJ will hold their view even in the face of heavy resistance. However, an ESTJ who can overcome this rigid mindset will be able to utilize the input of others to maximize their leadership potential.\\nIn social situations, ESTJ’s tend to represent a pillar of the community by organizing and hosting events. Yet, they do know how to project their boisterous personality and have fun mingling with others.\\nSince ESTJ’s tend to have an innate ability to remember details from past experiences, they thrive in both social and business relationships and are the first to remember names and personal details to be brought up in conversation.\\nThey are often described by others as charismatic, focused and driven.\\nAn ESTJ is likely to seek out a career as a business administrator, financial officer or office manager.\\nTheir ability to quickly identify a person’s needs makes them an ideal sales person or insurance agent. A career in the military or any government organization can also appeal to their respect for law and order.\\nFamous ESTJ’s include Henry Ford, George W. Bush and Judge Judy who all found a way to utilize the best aspects of their executive personality to enhance their careers and communities.\\n',\n",
       " 'Motto:Getting things done (Source)\\nDescription:(Source)ESFJ’s focus on the outside world and assess their experiences subjectively. They largely base their judgments on their belief system and on the effects of actions on people.\\nESFJ’s are literal and concrete, trusting the specific, factual information gathered through their physiological senses.\\n\\nESFJ’s project warmth through a genuine interest in the well-being of others.\\nThey are often skilled at bringing out the best in people, and they want to understand other points of view. They are serious about their responsibilities, seeing what needs to be done and then doing it.\\nGenerally proficient at detailed tasks, they enjoy doing little things that make life easier for others. They value tradition and the security it offers.\\nEasily hurt, ESFJ’s seek approval. They take pleasure in other people’s happiness. They give generously but expect appreciation in return.\\nSensitive to the physical needs of others, they respond by offering practical care.\\nAs expert people readers, ESFJ’s often adapt their manner to meet the expectations of others. However, they may have difficulty recognizing the shortcomings of loved ones.\\nESFJ’s tend to be vocal in expressing their sense of right and wrong. Their value system derives from the external standards defined by their community, as opposed to a personal set of ethics. (This is one of the traits that distinguishes them from their ENFJ counterparts.)\\nESFJ’s raised in an environment of high ethical standards tend to display true generosity and kindness. However, those who grow up surrounded by a skewed set of values may develop a false sense of integrity and use their people skills to selfishly manipulate others–particularly if their intuition is poorly developed, leaving them unable to foresee the consequences of their actions.\\nESFJ’s seek structured, controlled environments, and tend to be good at creating a sense of order. They generally feel insecure in an atmosphere of uncertainty.\\nThey value the rule of law and expect the same of others. ESFJ’s may be less interested in understanding the concepts behind the rules, tending to shy away from the abstract and impersonal.\\n',\n",
       " 'Motto:An inspiration to others (Source)\\nDescription:(Source)ENFJs seek continuity through harmonious relationships and collective values. They excel at picking up on the tone of a situation and acting accordingly, adding warmth to a cool setting or turning sour into sweet.\\nThey naturally seek to know what people do well, what they enjoy, and where and how they work.\\n\\nThey seem to have an infinite number of acquaintances from all walks of life and are always on the lookout for people in need and those who can help out.\\nENFJs weave and strengthen the collective fabric of social conventions and interactions. Inclusiveness is important and they are particularly sensitive to those who are excluded.\\nENFJs focus on others, feeling a glow when those around them are happy, and troubled when something is amiss. They are natural cheerleaders, often expressing support, gratitude, and encouragement, and heaping praise onto those they appreciate.\\nThey take note of what is being done and what needs doing, offering their assistance wherever necessary.\\nENFJs enjoy organizing group activities and tend to take their commitments seriously. In general, they are reliable and do not like to disappoint others.\\nAs team players and project leaders, they have a gift for rallying their players, focusing on what is being done right and each member’s strengths. They are loyal and they expect loyalty.\\nThey carry conversations well, finding common ground with their speaker. They tend to find the correct and gracious way to respond in any given situation, no matter how tense or uncomfortable it is.\\n',\n",
       " 'Motto:To live is to lead (Source)\\nDescription:(Source)ENTJs focus on the most efficient and organized means of performing a task. This quality, along with their goal orientation, often makes ENTJs superior leaders, both realistic and visionary in implementing a long-term plan.\\nENTJs tend to be fiercely independent in their decision making, having a strong will that insulates them against external influence.\\n\\nGenerally highly competent, ENTJs analyze and structure the world around them in a logical and rational way. Due to this straightforward way of thinking, ENTJs tend to have the greatest difficulty of all the types in applying subjective considerations and emotional values into the decision-making process.\\nENTJs often excel in business and other areas that require systems analysis, original thinking, and an economically savvy mind. They are dynamic and pragmatic problem solvers. They tend to have a high degree of confidence in their own abilities, making them assertive and outspoken.\\nIn their dealings with others, they are generally outgoing, charismatic, fair-minded, and unaffected by conflict or criticism. However, these qualities can make ENTJs appear arrogant, insensitive, and confrontational.\\nThey can overwhelm others with their energy, intelligence, and desire to order the world according to their own vision. As a result, they may seem intimidating, hasty, and controlling.\\nENTJs tend to cultivate their personal power. They often end up taking charge of a situation that seems (to their mind, at least) to be out of control, or that can otherwise be improved upon and strengthened.\\nThey strive to learn new things, which helps them become resourceful problem-solvers. However, since ENTJs rely on provable facts, they may find subjective issues pointless.\\nENTJs appear to take a tough approach to emotional or personal issues, and so can be viewed as aloof and insensitive. In situations requiring feeling and value judgments, ENTJs are well served to seek the advice of a trusted Feeling type.\\nWhen striving toward a goal, ENTJs often put personal needs aside until the work is done (and may expect others to do the same). For this reason, ENTJs may be considered self-sacrificing by some, but “cold and heartless” by others, especially those who prefer Feeling.\\n']"
      ]
     },
     "execution_count": 69,
     "metadata": {},
     "output_type": "execute_result"
    }
   ],
   "source": [
    "# using BeautifulSoup, we will extract data from both celebrities from X.\n",
    "from bs4 import BeautifulSoup\n",
    "import requests\n",
    "\n",
    "\n",
    "\n",
    "\n",
    "\n",
    "\n",
    "class WebScrapper:\n",
    "    def __init__(self):\n",
    "        self.headers = {\"User-Agent\": \"Mozilla/5.0 (Windows NT 10.0; Win64; x64) AppleWebKit/537.36 (KHTML, like Gecko) Chrome/58.0.3029.110 Safari/537.3\"}\n",
    "        self.url = \"https://www.personalityclub.com/personality-types/\"\n",
    "        self.contents, self.titles, self.personalities = self.get_content()\n",
    "    \n",
    "    def get_urls(self):\n",
    "        response = self.get_response(\"https://www.personalityclub.com/personality-types/\")\n",
    "        soup = BeautifulSoup(response.text, \"html.parser\")\n",
    "        urls = []\n",
    "        divs = soup.find_all(\"div\", {\"class\":\"one-fourth first\"})\n",
    "        for div in divs:\n",
    "            h3_a = div.find(\"h3\").a  # find the <a> inside <h3>\n",
    "            if h3_a and h3_a.get(\"href\"):\n",
    "                url = h3_a[\"href\"]\n",
    "        divs = soup.find_all(\"div\", {\"class\":\"one-fourth\"})\n",
    "        if divs:\n",
    "            for div in divs:\n",
    "                h3_a = div.find(\"h3\").a  # find the <a> inside <h3>\n",
    "                if h3_a and h3_a.get(\"href\"):\n",
    "                    url = h3_a[\"href\"]\n",
    "                    urls.append(url)\n",
    "        return urls\n",
    "\n",
    "\n",
    "    def get_response(self, url):\n",
    "        response = requests.get(headers=self.headers, url=url)\n",
    "        return response\n",
    "    \n",
    "    def get_content(self):\n",
    "        \"\"\"This function will scrape the content from the website.\n",
    "            Returns:\n",
    "                self: WebScrapper\n",
    "                (self.personality): dict\n",
    "                (self.title): str\n",
    "                (self.content): str\n",
    "        \"\"\"\n",
    "        urls = self.get_urls()\n",
    "        contents = []\n",
    "        titles = []\n",
    "        personalities = []\n",
    "        for url in urls:\n",
    "            response = self.get_response(url=url)\n",
    "            soup = BeautifulSoup(response.text, \"html.parser\")\n",
    "            title = soup.find(\"h1\", {\"class\":\"entry-title\"})\n",
    "            content = soup.find(\"div\", {\"class\":\"entry-content\"})\n",
    "            personality = \"\"\n",
    "            for paragraph in content.find_all(\"p\"):\n",
    "            # If this paragraph contains \"Keirsey Temperament:\", stop BEFORE adding it\n",
    "                if \"Keirsey Temperament:\" in paragraph.get_text():\n",
    "                    break\n",
    "                personality += paragraph.get_text(strip=True) + \"\\n\"\n",
    "            titles.append(title.text)\n",
    "            contents.append(content.text)\n",
    "            personalities.append(personality)\n",
    "        return contents, titles, personalities\n",
    "\n",
    "\n",
    "webscrapper = WebScrapper()\n",
    "webscrapper.personalities\n",
    "\n"
   ]
  },
  {
   "cell_type": "code",
   "execution_count": 65,
   "id": "6207d5ee",
   "metadata": {},
   "outputs": [],
   "source": [
    "import pandas as pd\n",
    "pd.DataFrame({\"titles\": webscrapper.titles, \"personalities\": webscrapper.personalities}).to_csv(\"personalities.csv\", index=False)"
   ]
  },
  {
   "cell_type": "markdown",
   "id": "fb0009ce",
   "metadata": {},
   "source": [
    "### GenAI\n"
   ]
  },
  {
   "cell_type": "code",
   "execution_count": 80,
   "id": "b6d836e4",
   "metadata": {},
   "outputs": [],
   "source": [
    "# configure models\n",
    "OLLAMA_MODEL = \"qwen:7b\"\n",
    "OPEN_AI_MODEL = \"gpt-4o-mini\"\n",
    "GOOGLE_MODEL = \"gemini-2.0-flash\""
   ]
  },
  {
   "cell_type": "markdown",
   "id": "c36ed7cb",
   "metadata": {},
   "source": [
    "### With Ollama\n"
   ]
  },
  {
   "cell_type": "code",
   "execution_count": null,
   "id": "f561155e",
   "metadata": {},
   "outputs": [],
   "source": [
    "df = pd.read_csv(\"personalities.csv\")\n",
    "system_prompt = f\"\"\"You are a helpful assistant that helps people find their personality type based on their preferences and behaviors. \n",
    "                    Based on multiple questions and answers, you will tell the user what personality they most resemble.\" \\\n",
    "                    Given this DataFrame: {df}, I want you to based on the answers to the questions, determine which personality type the user most closely resembles.\n",
    "                    \"\"\"\n",
    "messages = [{\"role\":\"system\", \"content\": system_prompt}]\n",
    "\n",
    "user_questions = [\n",
    "    \"Do you prefer to spend time alone or with others?\",\n",
    "    \"Are you more of a thinker or a feeler?\",\n",
    "    \"Do you like to plan things out or be spontaneous?\",\n",
    "    \"Are you more of a detail-oriented person or a big-picture thinker?\",\n",
    "    \"Do you prefer to follow rules or go with the flow?\"]\n",
    "for question in user_questions:\n",
    "    messages.append({\"role\":\"assistant\", \"content\": question})\n",
    "    messages.append({\"role\":\"user\", \"content\":input(question)})\n",
    "\n",
    "completion = ollama.chat(\n",
    "    model=\"qwen:7b\",\n",
    "    messages=messages,\n",
    ")\n",
    "\n",
    "answer = completion.message.content\n",
    "print(answer)"
   ]
  },
  {
   "cell_type": "code",
   "execution_count": null,
   "id": "1c4e43e3",
   "metadata": {},
   "outputs": [
    {
     "name": "stdout",
     "output_type": "stream",
     "text": [
      "Based on your answers, it seems like you might be an INFJ (The Idealist). INFJs are known for their big-picture thinking, spontaneity, ability to see beyond rules, and a strong desire to make a positive impact on others. However, everyone's personality is complex and influenced by many factors, so this is just one possible match.\n"
     ]
    }
   ],
   "source": []
  },
  {
   "cell_type": "markdown",
   "id": "2a44d3ca",
   "metadata": {},
   "source": [
    "### With OpenAI"
   ]
  },
  {
   "cell_type": "code",
   "execution_count": 83,
   "id": "e672881c",
   "metadata": {},
   "outputs": [
    {
     "name": "stdout",
     "output_type": "stream",
     "text": [
      "Based on your responses, you seem to closely resemble the **INTP – THE SCIENTIST** personality type. This type is characterized by:\n",
      "\n",
      "- A preference for being alone (Introverted)\n",
      "- A thinking approach to situations (Thinking)\n",
      "- A spontaneous nature (Perceiving)\n",
      "- A focus on big-picture ideas rather than minute details (Intuitive)\n",
      "\n",
      "INTPs are analytical, innovative, and often enjoy exploring concepts and theories. They tend to go with the flow in their thinking and decision-making.\n"
     ]
    }
   ],
   "source": [
    "messages = [{\"role\":\"system\", \"content\": system_prompt}]\n",
    "\n",
    "for question in user_questions:\n",
    "    messages.append({\"role\":\"assistant\", \"content\": question})\n",
    "    messages.append({\"role\":\"user\", \"content\":input(question)})\n",
    "\n",
    "completion = openai.chat.completions.create(\n",
    "    model=OPEN_AI_MODEL,\n",
    "    messages=messages,\n",
    ")\n",
    "\n",
    "answer = completion.choices[0].message.content\n",
    "print(answer)"
   ]
  },
  {
   "cell_type": "markdown",
   "id": "c190fbb3",
   "metadata": {},
   "source": [
    "# Generate the UI with Gradio"
   ]
  },
  {
   "cell_type": "code",
   "execution_count": 88,
   "id": "d28dafc0",
   "metadata": {},
   "outputs": [
    {
     "name": "stdout",
     "output_type": "stream",
     "text": [
      "[{'role': 'system', 'content': 'You are a helpful assistant that helps people find their personality type based on their preferences and behaviors. \\n                    Based on multiple questions and answers, you will tell the user what personality they most resemble.\"                     Given this DataFrame:                    titles                                      personalities\\n0    ISTJ – THE INSPECTOR  Motto:Organizing everything (Source)\\\\nDescript...\\n1     ISFJ – THE NURTURER  Motto:Meeting obligations (Source)\\\\nDescriptio...\\n2    INFJ – THE COUNSELOR  Motto:One cause after another (Source)\\\\nDescri...\\n3   INTJ – THE MASTERMIND  Motto:Can improve on anything (Source)\\\\nDescri...\\n4    ISTP – THE CRAFTSMAN  Motto:Working with facts and hands (Source)\\\\nD...\\n5       ISFP – THE ARTIST  Motto:Marching to a different drummer (Source)...\\n6     INFP – THE IDEALIST  Motto:Pursuing ideals (Source)\\\\nDescription:(S...\\n7    INTP – THE SCIENTIST  Motto:Always analytical (Source)\\\\nDescription:...\\n8         ESTP – THE DOER  Motto:Focus on the here and now (Source)\\\\nDesc...\\n9    ESFP – THE PERFORMER  Motto:If there’s no excitement, we’ll create i...\\n10  ENFP – THE DISCOVERER  Motto:In search of myself (Source)\\\\nDescriptio...\\n11    ENTP – THE INVENTOR  Motto:One Idea After Another (Source)\\\\nDescrip...\\n12  ESTJ – THE SUPERVISOR  Motto:Taking care of business (Source)\\\\nDescri...\\n13   ESFJ – THE CAREGIVER  Motto:Getting things done (Source)\\\\nDescriptio...\\n14      ENFJ – THE MENTOR  Motto:An inspiration to others (Source)\\\\nDescr...\\n15         ENTJ – THE CEO  Motto:To live is to lead (Source)\\\\nDescription..., I want you to based on the answers to the questions, determine which personality type the user most closely resembles.\\n                    '}, {'role': 'assistant', 'content': 'Do you prefer to spend time alone or with others?'}, {'role': 'user', 'content': 'ALONE'}, {'role': 'assistant', 'content': 'Are you more of a thinker or a feeler?'}, {'role': 'user', 'content': 'THINKER'}, {'role': 'assistant', 'content': 'Do you like to plan things out or be spontaneous?'}, {'role': 'user', 'content': 'SPONTANEOUS'}, {'role': 'assistant', 'content': 'Are you more of a detail-oriented person or a big-picture thinker?'}, {'role': 'user', 'content': 'BIG PICTURE'}, {'role': 'assistant', 'content': 'Do you prefer to follow rules or go with the flow?'}, {'role': 'user', 'content': 'WITH THE FLOW'}]\n"
     ]
    }
   ],
   "source": [
    "print(messages)"
   ]
  }
 ],
 "metadata": {
  "kernelspec": {
   "display_name": "Python (llm_personalities_venv)",
   "language": "python",
   "name": "my_venv"
  },
  "language_info": {
   "codemirror_mode": {
    "name": "ipython",
    "version": 3
   },
   "file_extension": ".py",
   "mimetype": "text/x-python",
   "name": "python",
   "nbconvert_exporter": "python",
   "pygments_lexer": "ipython3",
   "version": "3.13.7"
  }
 },
 "nbformat": 4,
 "nbformat_minor": 5
}
