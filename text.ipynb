{
 "cells": [
  {
   "cell_type": "markdown",
   "id": "71fbe1a0",
   "metadata": {},
   "source": [
    "### LLMs with personalities"
   ]
  },
  {
   "cell_type": "code",
   "execution_count": 68,
   "id": "3bb5f1f3",
   "metadata": {},
   "outputs": [],
   "source": [
    "# imports\n",
    "import ollama\n",
    "from dotenv import load_dotenv\n",
    "import openai\n",
    "from google import genai\n",
    "import pandas as pd"
   ]
  },
  {
   "cell_type": "code",
   "execution_count": 81,
   "id": "67c9a6f0",
   "metadata": {},
   "outputs": [
    {
     "data": {
      "text/plain": [
       "True"
      ]
     },
     "execution_count": 81,
     "metadata": {},
     "output_type": "execute_result"
    }
   ],
   "source": [
    "load_dotenv(dotenv_path=\"../../.env\")"
   ]
  },
  {
   "cell_type": "markdown",
   "id": "7a3693c1",
   "metadata": {},
   "source": [
    "### Celebrities: Elon Musk vs Gordon Ramsay"
   ]
  },
  {
   "cell_type": "code",
   "execution_count": 89,
   "id": "89b2c841",
   "metadata": {},
   "outputs": [
    {
     "data": {
      "text/plain": [
       "['ISTJ – THE INSPECTOR',\n",
       " 'ISFJ – THE NURTURER',\n",
       " 'INFJ – THE COUNSELOR',\n",
       " 'INTJ – THE MASTERMIND',\n",
       " 'ISTP – THE CRAFTSMAN',\n",
       " 'ISFP – THE ARTIST',\n",
       " 'INFP – THE IDEALIST',\n",
       " 'INTP – THE SCIENTIST',\n",
       " 'ESTP – THE DOER',\n",
       " 'ESFP – THE PERFORMER',\n",
       " 'ENFP – THE DISCOVERER',\n",
       " 'ENTP – THE INVENTOR',\n",
       " 'ESTJ – THE SUPERVISOR',\n",
       " 'ESFJ – THE CAREGIVER',\n",
       " 'ENFJ – THE MENTOR',\n",
       " 'ENTJ – THE CEO']"
      ]
     },
     "execution_count": 89,
     "metadata": {},
     "output_type": "execute_result"
    }
   ],
   "source": [
    "# using BeautifulSoup, we will extract data from both celebrities from X.\n",
    "from bs4 import BeautifulSoup\n",
    "import requests\n",
    "\n",
    "\n",
    "\n",
    "\n",
    "\n",
    "\n",
    "class WebScrapper:\n",
    "    def __init__(self):\n",
    "        self.headers = {\"User-Agent\": \"Mozilla/5.0 (Windows NT 10.0; Win64; x64) AppleWebKit/537.36 (KHTML, like Gecko) Chrome/58.0.3029.110 Safari/537.3\"}\n",
    "        self.url = \"https://www.personalityclub.com/personality-types/\"\n",
    "        self.contents, self.titles, self.personalities = self.get_content()\n",
    "    \n",
    "    def get_urls(self):\n",
    "        response = self.get_response(\"https://www.personalityclub.com/personality-types/\")\n",
    "        soup = BeautifulSoup(response.text, \"html.parser\")\n",
    "        urls = []\n",
    "        divs = soup.find_all(\"div\", {\"class\":\"one-fourth first\"})\n",
    "        for div in divs:\n",
    "            h3_a = div.find(\"h3\").a  # find the <a> inside <h3>\n",
    "            if h3_a and h3_a.get(\"href\"):\n",
    "                url = h3_a[\"href\"]\n",
    "        divs = soup.find_all(\"div\", {\"class\":\"one-fourth\"})\n",
    "        if divs:\n",
    "            for div in divs:\n",
    "                h3_a = div.find(\"h3\").a  # find the <a> inside <h3>\n",
    "                if h3_a and h3_a.get(\"href\"):\n",
    "                    url = h3_a[\"href\"]\n",
    "                    urls.append(url)\n",
    "        return urls\n",
    "\n",
    "\n",
    "    def get_response(self, url):\n",
    "        response = requests.get(headers=self.headers, url=url)\n",
    "        return response\n",
    "    \n",
    "    def get_content(self):\n",
    "        \"\"\"This function will scrape the content from the website.\n",
    "            Returns:\n",
    "                self: WebScrapper\n",
    "                (self.personality): dict\n",
    "                (self.title): str\n",
    "                (self.content): str\n",
    "        \"\"\"\n",
    "        urls = self.get_urls()\n",
    "        contents = []\n",
    "        titles = []\n",
    "        personalities = []\n",
    "        for url in urls:\n",
    "            response = self.get_response(url=url)\n",
    "            soup = BeautifulSoup(response.text, \"html.parser\")\n",
    "            title = soup.find(\"h1\", {\"class\":\"entry-title\"})\n",
    "            content = soup.find(\"div\", {\"class\":\"entry-content\"})\n",
    "            personality = \"\"\n",
    "            for paragraph in content.find_all(\"p\"):\n",
    "            # If this paragraph contains \"Keirsey Temperament:\", stop BEFORE adding it\n",
    "                if \"Keirsey Temperament:\" in paragraph.get_text():\n",
    "                    break\n",
    "                personality += paragraph.get_text(strip=True) + \"\\n\"\n",
    "            titles.append(title.text)\n",
    "            contents.append(content.text)\n",
    "            personalities.append(personality)\n",
    "        return contents, titles, personalities\n",
    "\n",
    "\n",
    "webscrapper = WebScrapper()\n",
    "webscrapper.titles\n",
    "\n"
   ]
  },
  {
   "cell_type": "code",
   "execution_count": 65,
   "id": "6207d5ee",
   "metadata": {},
   "outputs": [],
   "source": [
    "import pandas as pd\n",
    "pd.DataFrame({\"titles\": webscrapper.titles, \"personalities\": webscrapper.personalities}).to_csv(\"personalities.csv\", index=False)"
   ]
  },
  {
   "cell_type": "markdown",
   "id": "fb0009ce",
   "metadata": {},
   "source": [
    "### GenAI\n"
   ]
  },
  {
   "cell_type": "code",
   "execution_count": 80,
   "id": "b6d836e4",
   "metadata": {},
   "outputs": [],
   "source": [
    "# configure models\n",
    "OLLAMA_MODEL = \"qwen:7b\"\n",
    "OPEN_AI_MODEL = \"gpt-4o-mini\"\n",
    "GOOGLE_MODEL = \"gemini-2.0-flash\""
   ]
  },
  {
   "cell_type": "markdown",
   "id": "c36ed7cb",
   "metadata": {},
   "source": [
    "### With Ollama\n"
   ]
  },
  {
   "cell_type": "code",
   "execution_count": null,
   "id": "f561155e",
   "metadata": {},
   "outputs": [],
   "source": [
    "df = pd.read_csv(\"personalities.csv\")\n",
    "system_prompt = f\"\"\"You are a helpful assistant that helps people find their personality type based on their preferences and behaviors. \n",
    "                    Based on multiple questions and answers, you will tell the user what personality they most resemble.\" \\\n",
    "                    Given this DataFrame: {df}, I want you to based on the answers to the questions, determine which personality type the user most closely resembles.\n",
    "                    \"\"\"\n",
    "messages = [{\"role\":\"system\", \"content\": system_prompt}]\n",
    "\n",
    "user_questions = [\n",
    "    \"Do you prefer to spend time alone or with others?\",\n",
    "    \"Are you more of a thinker or a feeler?\",\n",
    "    \"Do you like to plan things out or be spontaneous?\",\n",
    "    \"Are you more of a detail-oriented person or a big-picture thinker?\",\n",
    "    \"Do you prefer to follow rules or go with the flow?\"]\n",
    "for question in user_questions:\n",
    "    messages.append({\"role\":\"assistant\", \"content\": question})\n",
    "    messages.append({\"role\":\"user\", \"content\":input(question)})\n",
    "\n",
    "completion = ollama.chat(\n",
    "    model=\"qwen:7b\",\n",
    "    messages=messages,\n",
    ")\n",
    "\n",
    "answer = completion.message.content\n",
    "print(answer)"
   ]
  },
  {
   "cell_type": "code",
   "execution_count": null,
   "id": "1c4e43e3",
   "metadata": {},
   "outputs": [
    {
     "name": "stdout",
     "output_type": "stream",
     "text": [
      "Based on your answers, it seems like you might be an INFJ (The Idealist). INFJs are known for their big-picture thinking, spontaneity, ability to see beyond rules, and a strong desire to make a positive impact on others. However, everyone's personality is complex and influenced by many factors, so this is just one possible match.\n"
     ]
    }
   ],
   "source": []
  },
  {
   "cell_type": "markdown",
   "id": "2a44d3ca",
   "metadata": {},
   "source": [
    "### With OpenAI"
   ]
  },
  {
   "cell_type": "code",
   "execution_count": 83,
   "id": "e672881c",
   "metadata": {},
   "outputs": [
    {
     "name": "stdout",
     "output_type": "stream",
     "text": [
      "Based on your responses, you seem to closely resemble the **INTP – THE SCIENTIST** personality type. This type is characterized by:\n",
      "\n",
      "- A preference for being alone (Introverted)\n",
      "- A thinking approach to situations (Thinking)\n",
      "- A spontaneous nature (Perceiving)\n",
      "- A focus on big-picture ideas rather than minute details (Intuitive)\n",
      "\n",
      "INTPs are analytical, innovative, and often enjoy exploring concepts and theories. They tend to go with the flow in their thinking and decision-making.\n"
     ]
    }
   ],
   "source": [
    "messages = [{\"role\":\"system\", \"content\": system_prompt}]\n",
    "\n",
    "for question in user_questions:\n",
    "    messages.append({\"role\":\"assistant\", \"content\": question})\n",
    "    messages.append({\"role\":\"user\", \"content\":input(question)})\n",
    "\n",
    "completion = openai.chat.completions.create(\n",
    "    model=OPEN_AI_MODEL,\n",
    "    messages=messages,\n",
    ")\n",
    "\n",
    "answer = completion.choices[0].message.content\n",
    "print(answer)"
   ]
  },
  {
   "cell_type": "markdown",
   "id": "c190fbb3",
   "metadata": {},
   "source": [
    "# Generate the UI with Gradio"
   ]
  },
  {
   "cell_type": "code",
   "execution_count": 88,
   "id": "d28dafc0",
   "metadata": {},
   "outputs": [
    {
     "name": "stdout",
     "output_type": "stream",
     "text": [
      "[{'role': 'system', 'content': 'You are a helpful assistant that helps people find their personality type based on their preferences and behaviors. \\n                    Based on multiple questions and answers, you will tell the user what personality they most resemble.\"                     Given this DataFrame:                    titles                                      personalities\\n0    ISTJ – THE INSPECTOR  Motto:Organizing everything (Source)\\\\nDescript...\\n1     ISFJ – THE NURTURER  Motto:Meeting obligations (Source)\\\\nDescriptio...\\n2    INFJ – THE COUNSELOR  Motto:One cause after another (Source)\\\\nDescri...\\n3   INTJ – THE MASTERMIND  Motto:Can improve on anything (Source)\\\\nDescri...\\n4    ISTP – THE CRAFTSMAN  Motto:Working with facts and hands (Source)\\\\nD...\\n5       ISFP – THE ARTIST  Motto:Marching to a different drummer (Source)...\\n6     INFP – THE IDEALIST  Motto:Pursuing ideals (Source)\\\\nDescription:(S...\\n7    INTP – THE SCIENTIST  Motto:Always analytical (Source)\\\\nDescription:...\\n8         ESTP – THE DOER  Motto:Focus on the here and now (Source)\\\\nDesc...\\n9    ESFP – THE PERFORMER  Motto:If there’s no excitement, we’ll create i...\\n10  ENFP – THE DISCOVERER  Motto:In search of myself (Source)\\\\nDescriptio...\\n11    ENTP – THE INVENTOR  Motto:One Idea After Another (Source)\\\\nDescrip...\\n12  ESTJ – THE SUPERVISOR  Motto:Taking care of business (Source)\\\\nDescri...\\n13   ESFJ – THE CAREGIVER  Motto:Getting things done (Source)\\\\nDescriptio...\\n14      ENFJ – THE MENTOR  Motto:An inspiration to others (Source)\\\\nDescr...\\n15         ENTJ – THE CEO  Motto:To live is to lead (Source)\\\\nDescription..., I want you to based on the answers to the questions, determine which personality type the user most closely resembles.\\n                    '}, {'role': 'assistant', 'content': 'Do you prefer to spend time alone or with others?'}, {'role': 'user', 'content': 'ALONE'}, {'role': 'assistant', 'content': 'Are you more of a thinker or a feeler?'}, {'role': 'user', 'content': 'THINKER'}, {'role': 'assistant', 'content': 'Do you like to plan things out or be spontaneous?'}, {'role': 'user', 'content': 'SPONTANEOUS'}, {'role': 'assistant', 'content': 'Are you more of a detail-oriented person or a big-picture thinker?'}, {'role': 'user', 'content': 'BIG PICTURE'}, {'role': 'assistant', 'content': 'Do you prefer to follow rules or go with the flow?'}, {'role': 'user', 'content': 'WITH THE FLOW'}]\n"
     ]
    }
   ],
   "source": [
    "print(messages)"
   ]
  }
 ],
 "metadata": {
  "kernelspec": {
   "display_name": "Python (llm_personalities_venv)",
   "language": "python",
   "name": "my_venv"
  },
  "language_info": {
   "codemirror_mode": {
    "name": "ipython",
    "version": 3
   },
   "file_extension": ".py",
   "mimetype": "text/x-python",
   "name": "python",
   "nbconvert_exporter": "python",
   "pygments_lexer": "ipython3",
   "version": "3.13.7"
  }
 },
 "nbformat": 4,
 "nbformat_minor": 5
}
