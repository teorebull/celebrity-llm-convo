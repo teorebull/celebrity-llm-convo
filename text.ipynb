{
 "cells": [
  {
   "cell_type": "markdown",
   "id": "71fbe1a0",
   "metadata": {},
   "source": [
    "### LLMs with personalities"
   ]
  },
  {
   "cell_type": "code",
   "execution_count": null,
   "id": "e500c082",
   "metadata": {},
   "outputs": [],
   "source": []
  },
  {
   "cell_type": "code",
   "execution_count": 1,
   "id": "3bb5f1f3",
   "metadata": {},
   "outputs": [],
   "source": [
    "# imports\n",
    "import ollama\n",
    "from dotenv import load_dotenv\n",
    "import openai\n",
    "from google import genai"
   ]
  },
  {
   "cell_type": "markdown",
   "id": "7a3693c1",
   "metadata": {},
   "source": [
    "### First celebrity: Albert Einstein "
   ]
  },
  {
   "cell_type": "code",
   "execution_count": null,
   "id": "89b2c841",
   "metadata": {},
   "outputs": [],
   "source": []
  },
  {
   "cell_type": "code",
   "execution_count": null,
   "id": "6207d5ee",
   "metadata": {},
   "outputs": [],
   "source": []
  },
  {
   "cell_type": "code",
   "execution_count": null,
   "id": "f561155e",
   "metadata": {},
   "outputs": [],
   "source": []
  },
  {
   "cell_type": "code",
   "execution_count": null,
   "id": "1c4e43e3",
   "metadata": {},
   "outputs": [],
   "source": []
  }
 ],
 "metadata": {
  "kernelspec": {
   "display_name": "Python 3",
   "language": "python",
   "name": "python3"
  },
  "language_info": {
   "codemirror_mode": {
    "name": "ipython",
    "version": 3
   },
   "file_extension": ".py",
   "mimetype": "text/x-python",
   "name": "python",
   "nbconvert_exporter": "python",
   "pygments_lexer": "ipython3",
   "version": "3.13.7"
  }
 },
 "nbformat": 4,
 "nbformat_minor": 5
}
