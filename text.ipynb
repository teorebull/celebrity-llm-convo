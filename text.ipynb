{
 "cells": [
  {
   "cell_type": "markdown",
   "id": "71fbe1a0",
   "metadata": {},
   "source": [
    "### LLMs with personalities"
   ]
  },
  {
   "cell_type": "code",
   "execution_count": 1,
   "id": "3bb5f1f3",
   "metadata": {},
   "outputs": [
    {
     "ename": "AttributeError",
     "evalue": "'FileFinder' object has no attribute 'find_module'",
     "output_type": "error",
     "traceback": [
      "\u001b[31m---------------------------------------------------------------------------\u001b[39m",
      "\u001b[31mAttributeError\u001b[39m                            Traceback (most recent call last)",
      "\u001b[36mCell\u001b[39m\u001b[36m \u001b[39m\u001b[32mIn[1]\u001b[39m\u001b[32m, line 6\u001b[39m\n\u001b[32m      4\u001b[39m \u001b[38;5;28;01mimport\u001b[39;00m\u001b[38;5;250m \u001b[39m\u001b[34;01mopenai\u001b[39;00m\n\u001b[32m      5\u001b[39m \u001b[38;5;28;01mfrom\u001b[39;00m\u001b[38;5;250m \u001b[39m\u001b[34;01mgoogle\u001b[39;00m\u001b[38;5;250m \u001b[39m\u001b[38;5;28;01mimport\u001b[39;00m genai\n\u001b[32m----> \u001b[39m\u001b[32m6\u001b[39m \u001b[38;5;28;01mimport\u001b[39;00m\u001b[38;5;250m \u001b[39m\u001b[34;01msnscrape\u001b[39;00m\u001b[34;01m.\u001b[39;00m\u001b[34;01mmodules\u001b[39;00m\u001b[34;01m.\u001b[39;00m\u001b[34;01mtwitter\u001b[39;00m\u001b[38;5;250m \u001b[39m\u001b[38;5;28;01mas\u001b[39;00m\u001b[38;5;250m \u001b[39m\u001b[34;01msntwitter\u001b[39;00m\n\u001b[32m      7\u001b[39m \u001b[38;5;28;01mimport\u001b[39;00m\u001b[38;5;250m \u001b[39m\u001b[34;01mpandas\u001b[39;00m\u001b[38;5;250m \u001b[39m\u001b[38;5;28;01mas\u001b[39;00m\u001b[38;5;250m \u001b[39m\u001b[34;01mpd\u001b[39;00m\n",
      "\u001b[36mFile \u001b[39m\u001b[32mc:\\Users\\teore\\OneDrive\\Documents\\AI\\github_projects\\llm_with_personality\\venv\\Lib\\site-packages\\snscrape\\modules\\__init__.py:17\u001b[39m\n\u001b[32m     13\u001b[39m \t\tmodule = importer.find_module(moduleName).load_module(moduleName)\n\u001b[32m     14\u001b[39m \t\t\u001b[38;5;28mglobals\u001b[39m()[moduleNameWithoutPrefix] = module\n\u001b[32m---> \u001b[39m\u001b[32m17\u001b[39m \u001b[43m_import_modules\u001b[49m\u001b[43m(\u001b[49m\u001b[43m)\u001b[49m\n",
      "\u001b[36mFile \u001b[39m\u001b[32mc:\\Users\\teore\\OneDrive\\Documents\\AI\\github_projects\\llm_with_personality\\venv\\Lib\\site-packages\\snscrape\\modules\\__init__.py:13\u001b[39m, in \u001b[36m_import_modules\u001b[39m\u001b[34m()\u001b[39m\n\u001b[32m     11\u001b[39m moduleNameWithoutPrefix = moduleName[prefixLen:]\n\u001b[32m     12\u001b[39m __all__.append(moduleNameWithoutPrefix)\n\u001b[32m---> \u001b[39m\u001b[32m13\u001b[39m module = \u001b[43mimporter\u001b[49m\u001b[43m.\u001b[49m\u001b[43mfind_module\u001b[49m(moduleName).load_module(moduleName)\n\u001b[32m     14\u001b[39m \u001b[38;5;28mglobals\u001b[39m()[moduleNameWithoutPrefix] = module\n",
      "\u001b[31mAttributeError\u001b[39m: 'FileFinder' object has no attribute 'find_module'"
     ]
    }
   ],
   "source": [
    "# imports\n",
    "import ollama\n",
    "from dotenv import load_dotenv\n",
    "import openai\n",
    "from google import genai\n",
    "import snscrape.modules.twitter as sntwitter\n",
    "import pandas as pd"
   ]
  },
  {
   "cell_type": "markdown",
   "id": "7a3693c1",
   "metadata": {},
   "source": [
    "### Celebrities: Elon Musk vs Gordon Ramsay"
   ]
  },
  {
   "cell_type": "code",
   "execution_count": null,
   "id": "89b2c841",
   "metadata": {},
   "outputs": [
    {
     "name": "stdout",
     "output_type": "stream",
     "text": [
      "Motto:\n",
      "An inspiration to others (Source)\n",
      "Description: (Source)\n",
      "ENFJs seek continuity through harmonious relationships and collective values. They excel at picking up on the tone of a situation and acting accordingly, adding warmth to a cool setting or turning sour into sweet.\n",
      "They naturally seek to know what people do well, what they enjoy, and where and how they work.\n",
      "\n",
      "They seem to have an infinite number of acquaintances from all walks of life and are always on the lookout for people in need and those who can help out.\n",
      "ENFJs weave and strengthen the collective fabric of social conventions and interactions. Inclusiveness is important and they are particularly sensitive to those who are excluded.\n",
      "ENFJs focus on others, feeling a glow when those around them are happy, and troubled when something is amiss. They are natural cheerleaders, often expressing support, gratitude, and encouragement, and heaping praise onto those they appreciate.\n",
      "They take note of what is being done and what needs doing, offering their assistance wherever necessary.\n",
      "ENFJs enjoy organizing group activities and tend to take their commitments seriously. In general, they are reliable and do not like to disappoint others.\n",
      "As team players and project leaders, they have a gift for rallying their players, focusing on what is being done right and each member’s strengths. They are loyal and they expect loyalty.\n",
      "They carry conversations well, finding common ground with their speaker. They tend to find the correct and gracious way to respond in any given situation, no matter how tense or uncomfortable it is.\n",
      "\n"
     ]
    }
   ],
   "source": [
    "# using BeautifulSoup, we will extract data from both celebrities from X.\n",
    "from bs4 import BeautifulSoup\n",
    "import requests\n",
    "\n",
    "headers = {\n",
    "    \"User-Agent\": \"Mozilla/5.0 (Windows NT 10.0; Win64; x64) AppleWebKit/537.36 (KHTML, like Gecko) Chrome/58.0.3029.110 Safari/537.3\"}\n",
    "personalities = {}\n",
    "response = requests.get(headers=headers, url=\"https://www.personalityclub.com/personality-types/enfj/\")\n",
    "soup = BeautifulSoup(response.text, \"html.parser\")\n",
    "title = soup.find(\"h1\", {\"class\":\"entry-title\"})\n",
    "content = soup.find(\"div\", {\"class\":\"entry-content\"})\n",
    "    # print(title.text)\n",
    "for paragraph in content.find_all(\"p\"):\n",
    "    if personalities.get(\"description\") is None:\n",
    "        personalities[\"description\"] = \"\"\n",
    "    if getattr(paragraph.span, \"strong\", None) and paragraph.span.strong.text == \"Keirsey Temperament:\":\n",
    "        break\n",
    "    \n",
    "    personalities[\"description\"] += paragraph.text + \"\\n\" \n",
    "\n",
    "    \n",
    "def get_personalities():\n",
    "    return personalities\n",
    "\n",
    "print(personalities[\"description\"])\n",
    "\n",
    "class WebScrapper:\n",
    "    def __init__(self, url):\n",
    "        self.url = url\n",
    "        self.headers = {\"User-Agent\": \"Mozilla/5.0 (Windows NT 10.0; Win64; x64) AppleWebKit/537.36 (KHTML, like Gecko) Chrome/58.0.3029.110 Safari/537.3\"}\n",
    "        self.title = None\n",
    "        self.personality = {}\n",
    "\n",
    "    def get_request(self):\n",
    "        response = requests.get(headers=self.headers, url=self.url)\n",
    "        return response\n",
    "    \n",
    "    def get_content(self):\n",
    "        response = self.get_content()\n",
    "        soup = BeautifulSoup(response.text, \"html.parser\")\n",
    "        title = soup.find(\"h1\", {\"class\":\"entry-title\"})\n",
    "        content = soup.find(\"div\", {\"class\":\"entry-content\"})\n",
    "        for paragraph in content.find_all(\"p\"):\n",
    "            if personalities.get(\"description\") is None:\n",
    "                personalities[\"description\"] = \"\"\n",
    "            if getattr(paragraph.span, \"strong\", None) and paragraph.span.strong.text == \"Keirsey Temperament:\":\n",
    "                break\n",
    "            \n",
    "            personalities[\"description\"] += paragraph.text + \"\\n\"\n",
    "        return title, personality\n",
    "\n",
    "\n"
   ]
  },
  {
   "cell_type": "code",
   "execution_count": null,
   "id": "6207d5ee",
   "metadata": {},
   "outputs": [],
   "source": []
  },
  {
   "cell_type": "code",
   "execution_count": null,
   "id": "f561155e",
   "metadata": {},
   "outputs": [],
   "source": []
  },
  {
   "cell_type": "code",
   "execution_count": null,
   "id": "1c4e43e3",
   "metadata": {},
   "outputs": [],
   "source": []
  }
 ],
 "metadata": {
  "kernelspec": {
   "display_name": "Python (llm_personalities_venv)",
   "language": "python",
   "name": "my_venv"
  },
  "language_info": {
   "codemirror_mode": {
    "name": "ipython",
    "version": 3
   },
   "file_extension": ".py",
   "mimetype": "text/x-python",
   "name": "python",
   "nbconvert_exporter": "python",
   "pygments_lexer": "ipython3",
   "version": "3.13.7"
  }
 },
 "nbformat": 4,
 "nbformat_minor": 5
}
